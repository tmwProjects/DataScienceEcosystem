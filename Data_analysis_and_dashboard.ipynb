{
 "cells": [
  {
   "cell_type": "markdown",
   "metadata": {},
   "source": [
    "# Install and import modules"
   ]
  },
  {
   "cell_type": "code",
   "execution_count": null,
   "metadata": {},
   "outputs": [],
   "source": [
    "!pip install yfinance\n",
    "!pip install bs4\n",
    "!pip install nbformat\n",
    "!pip install plotly\n",
    "!pip install pandas\n",
    "!pip install kaleido"
   ]
  },
  {
   "cell_type": "code",
   "execution_count": null,
   "metadata": {},
   "outputs": [],
   "source": [
    "!pip install -U yfinance pandas plotly kaleido"
   ]
  },
  {
   "cell_type": "code",
   "execution_count": null,
   "metadata": {},
   "outputs": [],
   "source": [
    "import yfinance as yf\n",
    "import kaleido\n",
    "import pandas as pd\n",
    "import requests\n",
    "from bs4 import BeautifulSoup\n",
    "import plotly\n",
    "import plotly.graph_objects as go\n",
    "from plotly.subplots import make_subplots"
   ]
  },
  {
   "cell_type": "code",
   "execution_count": null,
   "metadata": {},
   "outputs": [],
   "source": [
    "import warnings\n",
    "# Ignore all warnings\n",
    "warnings.filterwarnings(\"ignore\", category=FutureWarning)"
   ]
  },
  {
   "cell_type": "code",
   "execution_count": null,
   "metadata": {},
   "outputs": [],
   "source": [
    "import plotly.io as pio\n",
    "pio.renderers.default = \"notebook\""
   ]
  },
  {
   "cell_type": "markdown",
   "metadata": {},
   "source": [
    "# Question 1 - Extracting Tesla Stock Data Using yfinance"
   ]
  },
  {
   "cell_type": "code",
   "execution_count": null,
   "metadata": {},
   "outputs": [],
   "source": [
    "tesla = yf.Ticker(\"TSLA\")\n",
    "\n",
    "tesla_data = tesla.history(period=\"max\")\n",
    "\n",
    "tesla_data.reset_index(inplace=True)\n",
    "\n",
    "tesla_data.head()"
   ]
  },
  {
   "cell_type": "markdown",
   "metadata": {},
   "source": [
    "# Question 2 - Extracting Tesla Revenue Data Using Webscraping"
   ]
  },
  {
   "cell_type": "code",
   "execution_count": null,
   "metadata": {},
   "outputs": [],
   "source": [
    "url = \"https://cf-courses-data.s3.us.cloud-object-storage.appdomain.cloud/IBMDeveloperSkillsNetwork-PY0220EN-SkillsNetwork/labs/project/revenue.htm\"\n",
    "\n",
    "# Fetching the webpage content\n",
    "response = requests.get(url)\n",
    "html_data = response.text\n",
    "\n",
    "# Parsing the HTML content\n",
    "soup = BeautifulSoup(html_data, 'html.parser')\n",
    "\n",
    "# Extracting the table; assuming the table we're interested in is at index 1\n",
    "table = soup.find_all(\"tbody\")[1]\n",
    "\n",
    "# Initialize an empty list to store the data\n",
    "data = []\n",
    "\n",
    "# Loop through the rows in the table body\n",
    "for row in table.find_all(\"tr\"):\n",
    "    cols = row.find_all(\"td\")\n",
    "    if len(cols) == 2:\n",
    "        date = cols[0].text.strip()\n",
    "        revenue = cols[1].text.strip().replace(\"$\", \"\").replace(\",\", \"\")\n",
    "        data.append({\"Date\": date, \"Revenue\": revenue})\n",
    "\n",
    "# Convert the list of dictionaries into a DataFrame\n",
    "tesla_revenue = pd.DataFrame(data)\n",
    "\n",
    "# Convert the Revenue column to numeric, errors='coerce' will set non-convertible values to NaN\n",
    "tesla_revenue[\"Revenue\"] = pd.to_numeric(tesla_revenue[\"Revenue\"], errors='coerce')\n",
    "\n",
    "# Drop any rows with null or empty strings in the Revenue column, if necessary\n",
    "tesla_revenue.dropna(subset=[\"Revenue\"], inplace=True)\n",
    "\n",
    "# Display the DataFrame\n",
    "print(tesla_revenue.tail())"
   ]
  },
  {
   "cell_type": "markdown",
   "metadata": {},
   "source": [
    "# Question 3 - Extracting GameStop Stock Data Using yfinance"
   ]
  },
  {
   "cell_type": "code",
   "execution_count": null,
   "metadata": {},
   "outputs": [],
   "source": [
    "gme = yf.Ticker(\"GME\")\n",
    "\n",
    "gme_data = gme.history(period=\"max\")\n",
    "\n",
    "gme_data.reset_index(inplace=True)\n",
    "\n",
    "gme_data.head()"
   ]
  },
  {
   "cell_type": "markdown",
   "metadata": {},
   "source": [
    "# Question 4 - Extracting GameStop Revenue Data Using Webscraping "
   ]
  },
  {
   "cell_type": "code",
   "execution_count": null,
   "metadata": {},
   "outputs": [],
   "source": [
    "url = \"https://cf-courses-data.s3.us.cloud-object-storage.appdomain.cloud/IBMDeveloperSkillsNetwork-PY0220EN-SkillsNetwork/labs/project/stock.html\"\n",
    "\n",
    "# Fetching the webpage content\n",
    "response = requests.get(url)\n",
    "html_data = response.text\n",
    "\n",
    "# Parsing the HTML content\n",
    "soup = BeautifulSoup(html_data, 'html.parser')\n",
    "\n",
    "# Extracting the table; assuming the table we're interested in is at index 1\n",
    "table = soup.find_all(\"tbody\")[1]\n",
    "\n",
    "# Initialize an empty list to store the data\n",
    "data = []\n",
    "\n",
    "# Loop through the rows in the table body\n",
    "for row in table.find_all(\"tr\"):\n",
    "    cols = row.find_all(\"td\")\n",
    "    if len(cols) == 2:\n",
    "        date = cols[0].text.strip()\n",
    "        revenue = cols[1].text.strip().replace(\"$\", \"\").replace(\",\", \"\")\n",
    "        data.append({\"Date\": date, \"Revenue\": revenue})\n",
    "\n",
    "# Convert the list of dictionaries into a DataFrame\n",
    "gme_revenue = pd.DataFrame(data)\n",
    "\n",
    "# Convert the Revenue column to numeric, errors='coerce' will set non-convertible values to NaN\n",
    "gme_revenue[\"Revenue\"] = pd.to_numeric(gme_revenue[\"Revenue\"], errors='coerce')\n",
    "\n",
    "# Drop any rows with null or empty strings in the Revenue column, if necessary\n",
    "gme_revenue.dropna(subset=[\"Revenue\"], inplace=True)\n",
    "\n",
    "# Display the DataFrame\n",
    "print(gme_revenue.tail())"
   ]
  },
  {
   "cell_type": "markdown",
   "metadata": {},
   "source": [
    "# Question 5 - Tesla Stock and Revenue Dashboard"
   ]
  },
  {
   "cell_type": "code",
   "execution_count": null,
   "metadata": {},
   "outputs": [],
   "source": [
    "def make_graph(stock_data, revenue_data, title):\n",
    "    fig = make_subplots(specs=[[{\"secondary_y\": True}]])\n",
    "\n",
    "    # Aktienpreis-Daten hinzufügen\n",
    "    fig.add_trace(\n",
    "        go.Scatter(x=stock_data['Date'], y=stock_data['Close'], name='Stock Price'),\n",
    "        secondary_y=False,\n",
    "    )\n",
    "\n",
    "    # Umsatzdaten hinzufügen\n",
    "    fig.add_trace(\n",
    "        go.Scatter(x=revenue_data['Date'], y=revenue_data['Revenue'], name='Revenue'),\n",
    "        secondary_y=True,\n",
    "    )\n",
    "\n",
    "    # Layout-Einstellungen\n",
    "    fig.update_layout(\n",
    "        title=title,\n",
    "        xaxis_title='Date',\n",
    "    )\n",
    "\n",
    "    fig.update_yaxes(title_text=\"Stock Price (USD)\", secondary_y=False)\n",
    "    fig.update_yaxes(title_text=\"Revenue (USD)\", secondary_y=True)\n",
    "\n",
    "    plotly.offline.plot(fig, filename='tesla_stock_and_revenue.html')\n",
    "    fig.show()\n",
    "\n",
    "# Die Funktion aufrufen\n",
    "make_graph(tesla_data, tesla_revenue, 'Tesla Stock Price and Revenue')"
   ]
  },
  {
   "cell_type": "markdown",
   "metadata": {},
   "source": [
    "# Question 6 - GameStop Stock and Revenue Dashboard"
   ]
  },
  {
   "cell_type": "code",
   "execution_count": null,
   "metadata": {},
   "outputs": [],
   "source": [
    "def make_graph(stock_data, revenue_data, title):\n",
    "    fig = make_subplots(specs=[[{\"secondary_y\": True}]])\n",
    "\n",
    "    # Aktienpreis-Daten hinzufügen\n",
    "    fig.add_trace(\n",
    "        go.Scatter(x=stock_data['Date'], y=stock_data['Close'], name='Stock Price'),\n",
    "        secondary_y=False,\n",
    "    )\n",
    "\n",
    "    # Umsatzdaten hinzufügen\n",
    "    fig.add_trace(\n",
    "        go.Scatter(x=revenue_data['Date'], y=revenue_data['Revenue'], name='Revenue'),\n",
    "        secondary_y=True,\n",
    "    )\n",
    "\n",
    "    # Layout-Einstellungen\n",
    "    fig.update_layout(\n",
    "        title=title,\n",
    "        xaxis_title='Date',\n",
    "    )\n",
    "\n",
    "    fig.update_yaxes(title_text=\"Stock Price (USD)\", secondary_y=False)\n",
    "    fig.update_yaxes(title_text=\"Revenue (USD)\", secondary_y=True)\n",
    "\n",
    "    plotly.offline.plot(fig, filename='gme_stock_and_revenue.html')\n",
    "    fig.show()\n",
    "\n",
    "# Die Funktion aufrufen\n",
    "make_graph(gme_data, gme_revenue, 'Gamestop Stock Price and Revenue')"
   ]
  }
 ],
 "metadata": {
  "kernelspec": {
   "display_name": "Python 3 (ipykernel)",
   "language": "python",
   "name": "python3"
  },
  "language_info": {
   "codemirror_mode": {
    "name": "ipython",
    "version": 3
   },
   "file_extension": ".py",
   "mimetype": "text/x-python",
   "name": "python",
   "nbconvert_exporter": "python",
   "pygments_lexer": "ipython3",
   "version": "3.12.2"
  }
 },
 "nbformat": 4,
 "nbformat_minor": 4
}
